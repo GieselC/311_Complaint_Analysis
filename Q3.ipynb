{
 "cells": [
  {
   "cell_type": "markdown",
   "metadata": {},
   "source": [
    "<h1 style='font-size:2em; color:#2467C0'> Problem Statment 3 </h1>\n",
    "\n",
    "Does the Complaint Type that you identified in response to question 1 have an obvious relationship with any particular characteristic or characteristics of the houses or buildings?<br>\n",
    "<br>\n",
    "This question can be answered by: <br>\n",
    "1. visualing the matrices of correlation between Number of Cases and different building characteristics.\n",
    "2. visualing the impact of the most impactful building characteristic on the number of cases.\n",
    "\n",
    "*To answer the above questions, additional data set to be imported.*"
   ]
  },
  {
   "cell_type": "markdown",
   "metadata": {},
   "source": [
    "### About dataset"
   ]
  },
  {
   "cell_type": "markdown",
   "metadata": {},
   "source": [
    "This dataset will have the housing characteristic in BRONX. It can be downloaded from <a href = ' https://www1.nyc.gov/assets/planning/download/zip/data-maps/open-data/nyc_pluto_18v1.zip'> here </a>.\n",
    "\n",
    "| Field          | Description                                                    |\n",
    "|----------------|--------------------------------------------------------------  |\n",
    "| Address        |The building's address.                                            |\n",
    "| BldgDepth      |The building’s depth, which is the effective perpendicular distance, measured in feet. |\n",
    "| BuiltFAR       |The BUILT FLOOR AREA RATIO is the total building floor area divided by the area of the tax lot.|\n",
    "| LotArea        |Total area of the tax lot, expressed in square feet rounded to the nearest integer.|\n",
    "| LotDepth       |The tax lot's depth measured in feet.|\n",
    "| NumFloors      |The number of full and partial stories starting from the ground floor, for the tallest building on the tax lot.|\n",
    "| ResArea        |An estimate of the exterior dimensions of the portion of the structure(s) allocated for residential use. |\n",
    "| YearBuilt      |The year construction of the building was completed.|\n",
    "| YearAlter1     |If a building has only been altered once, YEAR ALTERED 1 is the date that alteration began. |\n",
    "| ZipCode        |The Y coordinate of the XY coordinate pair which depicts the approximate location of the lot. The XY coordinates are expressed in the New YorkLong Island State Plane coordinate system.|\n",
    "| YCoord         |The Y coordinate of the XY coordinate pair which depicts the approximate location of the lot. The XY coordinates are expressed in the New YorkLong Island State Plane coordinate system. |\n",
    "| XCoord         |The X coordinate of the XY coordinate pair which depicts the approximate location of the lot. The XY coordinates are expressed in the New YorkLong Island State Plane coordinate system. |"
   ]
  },
  {
   "cell_type": "markdown",
   "metadata": {},
   "source": [
    "### Import Libraries"
   ]
  },
  {
   "cell_type": "code",
   "execution_count": 1,
   "metadata": {},
   "outputs": [],
   "source": [
    "import matplotlib.pyplot as plt\n",
    "plt.style.use('fivethirtyeight')\n",
    "import matplotlib\n",
    "matplotlib.rcParams['axes.labelsize'] = 14\n",
    "matplotlib.rcParams['xtick.labelsize'] = 12\n",
    "matplotlib.rcParams['ytick.labelsize'] = 12\n",
    "matplotlib.rcParams['text.color'] = 'k'\n",
    "matplotlib.rcParams['figure.figsize'] = [20,9]"
   ]
  },
  {
   "cell_type": "code",
   "execution_count": 2,
   "metadata": {},
   "outputs": [],
   "source": [
    "import pandas as pd\n",
    "import seaborn as sns\n",
    "import numpy as np"
   ]
  },
  {
   "cell_type": "markdown",
   "metadata": {},
   "source": [
    "### Ingest Data"
   ]
  },
  {
   "cell_type": "code",
   "execution_count": 3,
   "metadata": {},
   "outputs": [
    {
     "name": "stderr",
     "output_type": "stream",
     "text": [
      "C:\\Users\\User\\anaconda3\\lib\\site-packages\\IPython\\core\\interactiveshell.py:3146: DtypeWarning: Columns (19,20,22,23,64,65,80) have mixed types.Specify dtype option on import or set low_memory=False.\n",
      "  has_raised = await self.run_ast_nodes(code_ast.body, cell_name,\n"
     ]
    }
   ],
   "source": [
    "df_bx = pd.read_csv(r'C:\\Users\\User\\Downloads/BX_18v1.csv')\n",
    "df= pd.read_csv(r'C:\\Users\\User\\Downloads/fhrw-4uyv.csv')"
   ]
  },
  {
   "cell_type": "code",
   "execution_count": 4,
   "metadata": {},
   "outputs": [
    {
     "data": {
      "text/html": [
       "<div>\n",
       "<style scoped>\n",
       "    .dataframe tbody tr th:only-of-type {\n",
       "        vertical-align: middle;\n",
       "    }\n",
       "\n",
       "    .dataframe tbody tr th {\n",
       "        vertical-align: top;\n",
       "    }\n",
       "\n",
       "    .dataframe thead th {\n",
       "        text-align: right;\n",
       "    }\n",
       "</style>\n",
       "<table border=\"1\" class=\"dataframe\">\n",
       "  <thead>\n",
       "    <tr style=\"text-align: right;\">\n",
       "      <th></th>\n",
       "      <th>created_date</th>\n",
       "      <th>unique_key</th>\n",
       "      <th>complaint_type</th>\n",
       "      <th>incident_zip</th>\n",
       "      <th>incident_address</th>\n",
       "      <th>street_name</th>\n",
       "      <th>address_type</th>\n",
       "      <th>city</th>\n",
       "      <th>resolution_description</th>\n",
       "      <th>borough</th>\n",
       "      <th>latitude</th>\n",
       "      <th>longitude</th>\n",
       "      <th>closed_date</th>\n",
       "      <th>location_type</th>\n",
       "      <th>status</th>\n",
       "    </tr>\n",
       "  </thead>\n",
       "  <tbody>\n",
       "    <tr>\n",
       "      <th>2</th>\n",
       "      <td>2020-10-04T16:47:24.000</td>\n",
       "      <td>47780238</td>\n",
       "      <td>HEAT/HOT WATER</td>\n",
       "      <td>10469.0</td>\n",
       "      <td>2561 BRONXWOOD AVENUE</td>\n",
       "      <td>BRONXWOOD AVENUE</td>\n",
       "      <td>ADDRESS</td>\n",
       "      <td>BRONX</td>\n",
       "      <td>The Department of Housing Preservation and Dev...</td>\n",
       "      <td>BRONX</td>\n",
       "      <td>40.863994</td>\n",
       "      <td>-73.861626</td>\n",
       "      <td>2020-10-07T17:46:29.000</td>\n",
       "      <td>RESIDENTIAL BUILDING</td>\n",
       "      <td>Closed</td>\n",
       "    </tr>\n",
       "    <tr>\n",
       "      <th>14</th>\n",
       "      <td>2020-10-04T19:20:30.000</td>\n",
       "      <td>47781076</td>\n",
       "      <td>HEAT/HOT WATER</td>\n",
       "      <td>10463.0</td>\n",
       "      <td>3555 OXFORD AVENUE</td>\n",
       "      <td>OXFORD AVENUE</td>\n",
       "      <td>ADDRESS</td>\n",
       "      <td>BRONX</td>\n",
       "      <td>The Department of Housing Preservation and Dev...</td>\n",
       "      <td>BRONX</td>\n",
       "      <td>40.886026</td>\n",
       "      <td>-73.908863</td>\n",
       "      <td>2020-10-07T18:12:28.000</td>\n",
       "      <td>RESIDENTIAL BUILDING</td>\n",
       "      <td>Closed</td>\n",
       "    </tr>\n",
       "    <tr>\n",
       "      <th>20</th>\n",
       "      <td>2020-10-04T16:43:06.000</td>\n",
       "      <td>47781915</td>\n",
       "      <td>HEAT/HOT WATER</td>\n",
       "      <td>10453.0</td>\n",
       "      <td>1841 DR M L KING JR BOULEVARD</td>\n",
       "      <td>DR M L KING JR BOULEVARD</td>\n",
       "      <td>ADDRESS</td>\n",
       "      <td>BRONX</td>\n",
       "      <td>The following complaint conditions are still o...</td>\n",
       "      <td>BRONX</td>\n",
       "      <td>40.851565</td>\n",
       "      <td>-73.914365</td>\n",
       "      <td>2020-10-07T07:34:16.000</td>\n",
       "      <td>RESIDENTIAL BUILDING</td>\n",
       "      <td>Closed</td>\n",
       "    </tr>\n",
       "    <tr>\n",
       "      <th>61</th>\n",
       "      <td>2020-10-05T09:51:43.000</td>\n",
       "      <td>47785464</td>\n",
       "      <td>HEAT/HOT WATER</td>\n",
       "      <td>10474.0</td>\n",
       "      <td>1314 SENECA AVENUE</td>\n",
       "      <td>SENECA AVENUE</td>\n",
       "      <td>ADDRESS</td>\n",
       "      <td>BRONX</td>\n",
       "      <td>The complaint you filed is a duplicate of a co...</td>\n",
       "      <td>BRONX</td>\n",
       "      <td>40.818939</td>\n",
       "      <td>-73.886981</td>\n",
       "      <td>2020-10-07T02:06:53.000</td>\n",
       "      <td>RESIDENTIAL BUILDING</td>\n",
       "      <td>Closed</td>\n",
       "    </tr>\n",
       "    <tr>\n",
       "      <th>96</th>\n",
       "      <td>2020-10-05T19:52:45.000</td>\n",
       "      <td>47786725</td>\n",
       "      <td>HEAT/HOT WATER</td>\n",
       "      <td>10456.0</td>\n",
       "      <td>831 EAGLE AVENUE</td>\n",
       "      <td>EAGLE AVENUE</td>\n",
       "      <td>ADDRESS</td>\n",
       "      <td>BRONX</td>\n",
       "      <td>The Department of Housing Preservation and Dev...</td>\n",
       "      <td>BRONX</td>\n",
       "      <td>40.821220</td>\n",
       "      <td>-73.908833</td>\n",
       "      <td>2020-10-07T02:06:53.000</td>\n",
       "      <td>RESIDENTIAL BUILDING</td>\n",
       "      <td>Closed</td>\n",
       "    </tr>\n",
       "    <tr>\n",
       "      <th>...</th>\n",
       "      <td>...</td>\n",
       "      <td>...</td>\n",
       "      <td>...</td>\n",
       "      <td>...</td>\n",
       "      <td>...</td>\n",
       "      <td>...</td>\n",
       "      <td>...</td>\n",
       "      <td>...</td>\n",
       "      <td>...</td>\n",
       "      <td>...</td>\n",
       "      <td>...</td>\n",
       "      <td>...</td>\n",
       "      <td>...</td>\n",
       "      <td>...</td>\n",
       "      <td>...</td>\n",
       "    </tr>\n",
       "    <tr>\n",
       "      <th>6372916</th>\n",
       "      <td>2020-12-31T04:11:18.000</td>\n",
       "      <td>48540570</td>\n",
       "      <td>HEAT/HOT WATER</td>\n",
       "      <td>10453.0</td>\n",
       "      <td>1600 SEDGWICK AVENUE</td>\n",
       "      <td>SEDGWICK AVENUE</td>\n",
       "      <td>ADDRESS</td>\n",
       "      <td>BRONX</td>\n",
       "      <td>The Department of Housing Preservation and Dev...</td>\n",
       "      <td>BRONX</td>\n",
       "      <td>40.847902</td>\n",
       "      <td>-73.924288</td>\n",
       "      <td>2020-12-31T16:59:56.000</td>\n",
       "      <td>RESIDENTIAL BUILDING</td>\n",
       "      <td>Closed</td>\n",
       "    </tr>\n",
       "    <tr>\n",
       "      <th>6372930</th>\n",
       "      <td>2020-12-31T22:12:51.000</td>\n",
       "      <td>48538898</td>\n",
       "      <td>HEAT/HOT WATER</td>\n",
       "      <td>10458.0</td>\n",
       "      <td>2345 CROTONA AVENUE</td>\n",
       "      <td>CROTONA AVENUE</td>\n",
       "      <td>ADDRESS</td>\n",
       "      <td>BRONX</td>\n",
       "      <td>The following complaint conditions are still o...</td>\n",
       "      <td>BRONX</td>\n",
       "      <td>40.853256</td>\n",
       "      <td>-73.883970</td>\n",
       "      <td>NaN</td>\n",
       "      <td>RESIDENTIAL BUILDING</td>\n",
       "      <td>Open</td>\n",
       "    </tr>\n",
       "    <tr>\n",
       "      <th>6372932</th>\n",
       "      <td>2020-12-31T19:49:04.000</td>\n",
       "      <td>48541791</td>\n",
       "      <td>HEAT/HOT WATER</td>\n",
       "      <td>10458.0</td>\n",
       "      <td>311 BEDFORD PARK BOULEVARD</td>\n",
       "      <td>BEDFORD PARK BOULEVARD</td>\n",
       "      <td>ADDRESS</td>\n",
       "      <td>BRONX</td>\n",
       "      <td>The following complaint conditions are still o...</td>\n",
       "      <td>BRONX</td>\n",
       "      <td>40.869871</td>\n",
       "      <td>-73.885145</td>\n",
       "      <td>NaN</td>\n",
       "      <td>RESIDENTIAL BUILDING</td>\n",
       "      <td>Open</td>\n",
       "    </tr>\n",
       "    <tr>\n",
       "      <th>6372939</th>\n",
       "      <td>2020-12-31T22:53:31.000</td>\n",
       "      <td>48541719</td>\n",
       "      <td>HEAT/HOT WATER</td>\n",
       "      <td>10473.0</td>\n",
       "      <td>434 THIERIOT AVENUE</td>\n",
       "      <td>THIERIOT AVENUE</td>\n",
       "      <td>ADDRESS</td>\n",
       "      <td>BRONX</td>\n",
       "      <td>The complaint you filed is a duplicate of a co...</td>\n",
       "      <td>BRONX</td>\n",
       "      <td>40.813876</td>\n",
       "      <td>-73.860246</td>\n",
       "      <td>NaN</td>\n",
       "      <td>RESIDENTIAL BUILDING</td>\n",
       "      <td>Open</td>\n",
       "    </tr>\n",
       "    <tr>\n",
       "      <th>6372941</th>\n",
       "      <td>2020-12-31T10:13:10.000</td>\n",
       "      <td>48540788</td>\n",
       "      <td>HEAT/HOT WATER</td>\n",
       "      <td>10470.0</td>\n",
       "      <td>4575 FURMAN AVENUE</td>\n",
       "      <td>FURMAN AVENUE</td>\n",
       "      <td>ADDRESS</td>\n",
       "      <td>BRONX</td>\n",
       "      <td>The following complaint conditions are still o...</td>\n",
       "      <td>BRONX</td>\n",
       "      <td>40.901061</td>\n",
       "      <td>-73.851127</td>\n",
       "      <td>NaN</td>\n",
       "      <td>RESIDENTIAL BUILDING</td>\n",
       "      <td>Open</td>\n",
       "    </tr>\n",
       "  </tbody>\n",
       "</table>\n",
       "<p>459402 rows × 15 columns</p>\n",
       "</div>"
      ],
      "text/plain": [
       "                    created_date  unique_key  complaint_type  incident_zip  \\\n",
       "2        2020-10-04T16:47:24.000    47780238  HEAT/HOT WATER       10469.0   \n",
       "14       2020-10-04T19:20:30.000    47781076  HEAT/HOT WATER       10463.0   \n",
       "20       2020-10-04T16:43:06.000    47781915  HEAT/HOT WATER       10453.0   \n",
       "61       2020-10-05T09:51:43.000    47785464  HEAT/HOT WATER       10474.0   \n",
       "96       2020-10-05T19:52:45.000    47786725  HEAT/HOT WATER       10456.0   \n",
       "...                          ...         ...             ...           ...   \n",
       "6372916  2020-12-31T04:11:18.000    48540570  HEAT/HOT WATER       10453.0   \n",
       "6372930  2020-12-31T22:12:51.000    48538898  HEAT/HOT WATER       10458.0   \n",
       "6372932  2020-12-31T19:49:04.000    48541791  HEAT/HOT WATER       10458.0   \n",
       "6372939  2020-12-31T22:53:31.000    48541719  HEAT/HOT WATER       10473.0   \n",
       "6372941  2020-12-31T10:13:10.000    48540788  HEAT/HOT WATER       10470.0   \n",
       "\n",
       "                      incident_address               street_name address_type  \\\n",
       "2                2561 BRONXWOOD AVENUE          BRONXWOOD AVENUE      ADDRESS   \n",
       "14                  3555 OXFORD AVENUE             OXFORD AVENUE      ADDRESS   \n",
       "20       1841 DR M L KING JR BOULEVARD  DR M L KING JR BOULEVARD      ADDRESS   \n",
       "61                  1314 SENECA AVENUE             SENECA AVENUE      ADDRESS   \n",
       "96                    831 EAGLE AVENUE              EAGLE AVENUE      ADDRESS   \n",
       "...                                ...                       ...          ...   \n",
       "6372916           1600 SEDGWICK AVENUE           SEDGWICK AVENUE      ADDRESS   \n",
       "6372930            2345 CROTONA AVENUE            CROTONA AVENUE      ADDRESS   \n",
       "6372932     311 BEDFORD PARK BOULEVARD    BEDFORD PARK BOULEVARD      ADDRESS   \n",
       "6372939            434 THIERIOT AVENUE           THIERIOT AVENUE      ADDRESS   \n",
       "6372941             4575 FURMAN AVENUE             FURMAN AVENUE      ADDRESS   \n",
       "\n",
       "          city                             resolution_description borough  \\\n",
       "2        BRONX  The Department of Housing Preservation and Dev...   BRONX   \n",
       "14       BRONX  The Department of Housing Preservation and Dev...   BRONX   \n",
       "20       BRONX  The following complaint conditions are still o...   BRONX   \n",
       "61       BRONX  The complaint you filed is a duplicate of a co...   BRONX   \n",
       "96       BRONX  The Department of Housing Preservation and Dev...   BRONX   \n",
       "...        ...                                                ...     ...   \n",
       "6372916  BRONX  The Department of Housing Preservation and Dev...   BRONX   \n",
       "6372930  BRONX  The following complaint conditions are still o...   BRONX   \n",
       "6372932  BRONX  The following complaint conditions are still o...   BRONX   \n",
       "6372939  BRONX  The complaint you filed is a duplicate of a co...   BRONX   \n",
       "6372941  BRONX  The following complaint conditions are still o...   BRONX   \n",
       "\n",
       "          latitude  longitude              closed_date         location_type  \\\n",
       "2        40.863994 -73.861626  2020-10-07T17:46:29.000  RESIDENTIAL BUILDING   \n",
       "14       40.886026 -73.908863  2020-10-07T18:12:28.000  RESIDENTIAL BUILDING   \n",
       "20       40.851565 -73.914365  2020-10-07T07:34:16.000  RESIDENTIAL BUILDING   \n",
       "61       40.818939 -73.886981  2020-10-07T02:06:53.000  RESIDENTIAL BUILDING   \n",
       "96       40.821220 -73.908833  2020-10-07T02:06:53.000  RESIDENTIAL BUILDING   \n",
       "...            ...        ...                      ...                   ...   \n",
       "6372916  40.847902 -73.924288  2020-12-31T16:59:56.000  RESIDENTIAL BUILDING   \n",
       "6372930  40.853256 -73.883970                      NaN  RESIDENTIAL BUILDING   \n",
       "6372932  40.869871 -73.885145                      NaN  RESIDENTIAL BUILDING   \n",
       "6372939  40.813876 -73.860246                      NaN  RESIDENTIAL BUILDING   \n",
       "6372941  40.901061 -73.851127                      NaN  RESIDENTIAL BUILDING   \n",
       "\n",
       "         status  \n",
       "2        Closed  \n",
       "14       Closed  \n",
       "20       Closed  \n",
       "61       Closed  \n",
       "96       Closed  \n",
       "...         ...  \n",
       "6372916  Closed  \n",
       "6372930    Open  \n",
       "6372932    Open  \n",
       "6372939    Open  \n",
       "6372941    Open  \n",
       "\n",
       "[459402 rows x 15 columns]"
      ]
     },
     "execution_count": 4,
     "metadata": {},
     "output_type": "execute_result"
    }
   ],
   "source": [
    "df = df.loc[df['complaint_type'] == 'HEAT/HOT WATER']\n",
    "df = df.loc[df['borough']=='BRONX']\n",
    "df"
   ]
  },
  {
   "cell_type": "code",
   "execution_count": 5,
   "metadata": {},
   "outputs": [],
   "source": [
    "df_a = df['incident_address'].value_counts().to_frame().rename(columns={'incident_address':'case_count'})"
   ]
  },
  {
   "cell_type": "code",
   "execution_count": 6,
   "metadata": {},
   "outputs": [],
   "source": [
    "df_bx = df_bx[['Address', 'BldgDepth', 'BuiltFAR','LotArea', 'LotDepth', 'NumFloors', 'ResArea', 'YearBuilt', 'YearAlter1', 'ZipCode', 'YCoord', 'XCoord']]\n",
    "df_b = df_bx.copy(deep=True)"
   ]
  },
  {
   "cell_type": "markdown",
   "metadata": {},
   "source": [
    "### Merge Datasets"
   ]
  },
  {
   "cell_type": "code",
   "execution_count": 7,
   "metadata": {},
   "outputs": [],
   "source": [
    "df_c = pd.merge(left=df_a, right=df_b, left_on = df_a.index, right_on='Address', how='left')"
   ]
  },
  {
   "cell_type": "markdown",
   "metadata": {},
   "source": [
    "#### Understanding Data"
   ]
  },
  {
   "cell_type": "code",
   "execution_count": 8,
   "metadata": {},
   "outputs": [
    {
     "data": {
      "text/plain": [
       "459851"
      ]
     },
     "execution_count": 8,
     "metadata": {},
     "output_type": "execute_result"
    }
   ],
   "source": [
    "df_c['case_count'].sum()"
   ]
  },
  {
   "cell_type": "markdown",
   "metadata": {},
   "source": [
    "There are 459,851 cases here to be investigated in."
   ]
  },
  {
   "cell_type": "code",
   "execution_count": 9,
   "metadata": {},
   "outputs": [],
   "source": [
    "df_d = df_c.copy(deep=True)"
   ]
  },
  {
   "cell_type": "code",
   "execution_count": 10,
   "metadata": {},
   "outputs": [],
   "source": [
    "df_d[['BldgDepth','BuiltFAR','LotArea', 'LotDepth', 'NumFloors', 'ResArea', 'YearBuilt', 'YearAlter1', 'ZipCode', 'YCoord', 'XCoord']]=df_d[['BldgDepth','BuiltFAR','LotArea', 'LotDepth', 'NumFloors', 'ResArea', 'YearBuilt', 'YearAlter1', 'ZipCode', 'YCoord', 'XCoord']].replace(np.nan, 0).astype('str')"
   ]
  },
  {
   "cell_type": "code",
   "execution_count": 11,
   "metadata": {},
   "outputs": [
    {
     "data": {
      "text/html": [
       "<div>\n",
       "<style scoped>\n",
       "    .dataframe tbody tr th:only-of-type {\n",
       "        vertical-align: middle;\n",
       "    }\n",
       "\n",
       "    .dataframe tbody tr th {\n",
       "        vertical-align: top;\n",
       "    }\n",
       "\n",
       "    .dataframe thead th {\n",
       "        text-align: right;\n",
       "    }\n",
       "</style>\n",
       "<table border=\"1\" class=\"dataframe\">\n",
       "  <thead>\n",
       "    <tr style=\"text-align: right;\">\n",
       "      <th></th>\n",
       "      <th>case_count</th>\n",
       "      <th>Address</th>\n",
       "      <th>BldgDepth</th>\n",
       "      <th>BuiltFAR</th>\n",
       "      <th>LotArea</th>\n",
       "      <th>LotDepth</th>\n",
       "      <th>NumFloors</th>\n",
       "      <th>ResArea</th>\n",
       "      <th>YearBuilt</th>\n",
       "      <th>YearAlter1</th>\n",
       "      <th>ZipCode</th>\n",
       "      <th>YCoord</th>\n",
       "      <th>XCoord</th>\n",
       "    </tr>\n",
       "  </thead>\n",
       "  <tbody>\n",
       "    <tr>\n",
       "      <th>count</th>\n",
       "      <td>19272.000000</td>\n",
       "      <td>19272</td>\n",
       "      <td>19272</td>\n",
       "      <td>19272</td>\n",
       "      <td>19272</td>\n",
       "      <td>19272</td>\n",
       "      <td>19272</td>\n",
       "      <td>19272</td>\n",
       "      <td>19272</td>\n",
       "      <td>19272</td>\n",
       "      <td>19272</td>\n",
       "      <td>19272</td>\n",
       "      <td>19272</td>\n",
       "    </tr>\n",
       "    <tr>\n",
       "      <th>unique</th>\n",
       "      <td>NaN</td>\n",
       "      <td>19245</td>\n",
       "      <td>1060</td>\n",
       "      <td>709</td>\n",
       "      <td>5225</td>\n",
       "      <td>2586</td>\n",
       "      <td>39</td>\n",
       "      <td>6246</td>\n",
       "      <td>127</td>\n",
       "      <td>88</td>\n",
       "      <td>26</td>\n",
       "      <td>12501</td>\n",
       "      <td>11789</td>\n",
       "    </tr>\n",
       "    <tr>\n",
       "      <th>top</th>\n",
       "      <td>NaN</td>\n",
       "      <td>388 WILLIS AVENUE</td>\n",
       "      <td>0.0</td>\n",
       "      <td>0.0</td>\n",
       "      <td>0.0</td>\n",
       "      <td>100.0</td>\n",
       "      <td>2.0</td>\n",
       "      <td>0.0</td>\n",
       "      <td>0.0</td>\n",
       "      <td>0.0</td>\n",
       "      <td>0.0</td>\n",
       "      <td>0.0</td>\n",
       "      <td>0.0</td>\n",
       "    </tr>\n",
       "    <tr>\n",
       "      <th>freq</th>\n",
       "      <td>NaN</td>\n",
       "      <td>3</td>\n",
       "      <td>3608</td>\n",
       "      <td>3499</td>\n",
       "      <td>3417</td>\n",
       "      <td>5648</td>\n",
       "      <td>5180</td>\n",
       "      <td>4045</td>\n",
       "      <td>3520</td>\n",
       "      <td>16425</td>\n",
       "      <td>3406</td>\n",
       "      <td>3436</td>\n",
       "      <td>3436</td>\n",
       "    </tr>\n",
       "    <tr>\n",
       "      <th>mean</th>\n",
       "      <td>23.861094</td>\n",
       "      <td>NaN</td>\n",
       "      <td>NaN</td>\n",
       "      <td>NaN</td>\n",
       "      <td>NaN</td>\n",
       "      <td>NaN</td>\n",
       "      <td>NaN</td>\n",
       "      <td>NaN</td>\n",
       "      <td>NaN</td>\n",
       "      <td>NaN</td>\n",
       "      <td>NaN</td>\n",
       "      <td>NaN</td>\n",
       "      <td>NaN</td>\n",
       "    </tr>\n",
       "    <tr>\n",
       "      <th>std</th>\n",
       "      <td>98.893566</td>\n",
       "      <td>NaN</td>\n",
       "      <td>NaN</td>\n",
       "      <td>NaN</td>\n",
       "      <td>NaN</td>\n",
       "      <td>NaN</td>\n",
       "      <td>NaN</td>\n",
       "      <td>NaN</td>\n",
       "      <td>NaN</td>\n",
       "      <td>NaN</td>\n",
       "      <td>NaN</td>\n",
       "      <td>NaN</td>\n",
       "      <td>NaN</td>\n",
       "    </tr>\n",
       "    <tr>\n",
       "      <th>min</th>\n",
       "      <td>1.000000</td>\n",
       "      <td>NaN</td>\n",
       "      <td>NaN</td>\n",
       "      <td>NaN</td>\n",
       "      <td>NaN</td>\n",
       "      <td>NaN</td>\n",
       "      <td>NaN</td>\n",
       "      <td>NaN</td>\n",
       "      <td>NaN</td>\n",
       "      <td>NaN</td>\n",
       "      <td>NaN</td>\n",
       "      <td>NaN</td>\n",
       "      <td>NaN</td>\n",
       "    </tr>\n",
       "    <tr>\n",
       "      <th>25%</th>\n",
       "      <td>1.000000</td>\n",
       "      <td>NaN</td>\n",
       "      <td>NaN</td>\n",
       "      <td>NaN</td>\n",
       "      <td>NaN</td>\n",
       "      <td>NaN</td>\n",
       "      <td>NaN</td>\n",
       "      <td>NaN</td>\n",
       "      <td>NaN</td>\n",
       "      <td>NaN</td>\n",
       "      <td>NaN</td>\n",
       "      <td>NaN</td>\n",
       "      <td>NaN</td>\n",
       "    </tr>\n",
       "    <tr>\n",
       "      <th>50%</th>\n",
       "      <td>4.000000</td>\n",
       "      <td>NaN</td>\n",
       "      <td>NaN</td>\n",
       "      <td>NaN</td>\n",
       "      <td>NaN</td>\n",
       "      <td>NaN</td>\n",
       "      <td>NaN</td>\n",
       "      <td>NaN</td>\n",
       "      <td>NaN</td>\n",
       "      <td>NaN</td>\n",
       "      <td>NaN</td>\n",
       "      <td>NaN</td>\n",
       "      <td>NaN</td>\n",
       "    </tr>\n",
       "    <tr>\n",
       "      <th>75%</th>\n",
       "      <td>16.000000</td>\n",
       "      <td>NaN</td>\n",
       "      <td>NaN</td>\n",
       "      <td>NaN</td>\n",
       "      <td>NaN</td>\n",
       "      <td>NaN</td>\n",
       "      <td>NaN</td>\n",
       "      <td>NaN</td>\n",
       "      <td>NaN</td>\n",
       "      <td>NaN</td>\n",
       "      <td>NaN</td>\n",
       "      <td>NaN</td>\n",
       "      <td>NaN</td>\n",
       "    </tr>\n",
       "    <tr>\n",
       "      <th>max</th>\n",
       "      <td>5240.000000</td>\n",
       "      <td>NaN</td>\n",
       "      <td>NaN</td>\n",
       "      <td>NaN</td>\n",
       "      <td>NaN</td>\n",
       "      <td>NaN</td>\n",
       "      <td>NaN</td>\n",
       "      <td>NaN</td>\n",
       "      <td>NaN</td>\n",
       "      <td>NaN</td>\n",
       "      <td>NaN</td>\n",
       "      <td>NaN</td>\n",
       "      <td>NaN</td>\n",
       "    </tr>\n",
       "  </tbody>\n",
       "</table>\n",
       "</div>"
      ],
      "text/plain": [
       "          case_count            Address BldgDepth BuiltFAR LotArea LotDepth  \\\n",
       "count   19272.000000              19272     19272    19272   19272    19272   \n",
       "unique           NaN              19245      1060      709    5225     2586   \n",
       "top              NaN  388 WILLIS AVENUE       0.0      0.0     0.0    100.0   \n",
       "freq             NaN                  3      3608     3499    3417     5648   \n",
       "mean       23.861094                NaN       NaN      NaN     NaN      NaN   \n",
       "std        98.893566                NaN       NaN      NaN     NaN      NaN   \n",
       "min         1.000000                NaN       NaN      NaN     NaN      NaN   \n",
       "25%         1.000000                NaN       NaN      NaN     NaN      NaN   \n",
       "50%         4.000000                NaN       NaN      NaN     NaN      NaN   \n",
       "75%        16.000000                NaN       NaN      NaN     NaN      NaN   \n",
       "max      5240.000000                NaN       NaN      NaN     NaN      NaN   \n",
       "\n",
       "       NumFloors ResArea YearBuilt YearAlter1 ZipCode YCoord XCoord  \n",
       "count      19272   19272     19272      19272   19272  19272  19272  \n",
       "unique        39    6246       127         88      26  12501  11789  \n",
       "top          2.0     0.0       0.0        0.0     0.0    0.0    0.0  \n",
       "freq        5180    4045      3520      16425    3406   3436   3436  \n",
       "mean         NaN     NaN       NaN        NaN     NaN    NaN    NaN  \n",
       "std          NaN     NaN       NaN        NaN     NaN    NaN    NaN  \n",
       "min          NaN     NaN       NaN        NaN     NaN    NaN    NaN  \n",
       "25%          NaN     NaN       NaN        NaN     NaN    NaN    NaN  \n",
       "50%          NaN     NaN       NaN        NaN     NaN    NaN    NaN  \n",
       "75%          NaN     NaN       NaN        NaN     NaN    NaN    NaN  \n",
       "max          NaN     NaN       NaN        NaN     NaN    NaN    NaN  "
      ]
     },
     "execution_count": 11,
     "metadata": {},
     "output_type": "execute_result"
    }
   ],
   "source": [
    "df_d.describe(include='all')"
   ]
  },
  {
   "cell_type": "markdown",
   "metadata": {},
   "source": [
    "There are certain attributes have more than 1,000 unique values (eg. LotArea, LotDepth & ResArea). "
   ]
  },
  {
   "cell_type": "markdown",
   "metadata": {},
   "source": [
    "<h1 style='font-size:2em; color:#2467C0'> BldgDepth </h1>"
   ]
  },
  {
   "cell_type": "code",
   "execution_count": 12,
   "metadata": {},
   "outputs": [
    {
     "data": {
      "text/plain": [
       "<AxesSubplot:xlabel='BldgDepth'>"
      ]
     },
     "execution_count": 12,
     "metadata": {},
     "output_type": "execute_result"
    },
    {
     "data": {
      "image/png": "[encoded data removed]",
      "text/plain": [
       "<Figure size 1440x648 with 1 Axes>"
      ]
     },
     "metadata": {},
     "output_type": "display_data"
    }
   ],
   "source": [
    "x = df_c[['case_count', 'BldgDepth']].groupby('BldgDepth').sum().sort_values('case_count', ascending=False)\n",
    "case_sum = x['case_count'].sum()\n",
    "x['weighted'] = x['case_count']*100/case_sum\n",
    "x.sort_values('BldgDepth')['weighted'].plot(kind='bar')"
   ]
  },
  {
   "cell_type": "code",
   "execution_count": 13,
   "metadata": {},
   "outputs": [
    {
     "data": {
      "text/plain": [
       "0.9345030367789078"
      ]
     },
     "execution_count": 13,
     "metadata": {},
     "output_type": "execute_result"
    }
   ],
   "source": [
    "x.index = x.index.map(str)\n",
    "x[:212]['case_count'].sum()/x['case_count'].sum()"
   ]
  },
  {
   "cell_type": "code",
   "execution_count": 14,
   "metadata": {},
   "outputs": [
    {
     "data": {
      "text/html": [
       "<div>\n",
       "<style scoped>\n",
       "    .dataframe tbody tr th:only-of-type {\n",
       "        vertical-align: middle;\n",
       "    }\n",
       "\n",
       "    .dataframe tbody tr th {\n",
       "        vertical-align: top;\n",
       "    }\n",
       "\n",
       "    .dataframe thead th {\n",
       "        text-align: right;\n",
       "    }\n",
       "</style>\n",
       "<table border=\"1\" class=\"dataframe\">\n",
       "  <thead>\n",
       "    <tr style=\"text-align: right;\">\n",
       "      <th></th>\n",
       "      <th>case_count</th>\n",
       "      <th>weighted</th>\n",
       "    </tr>\n",
       "    <tr>\n",
       "      <th>BldgDepth</th>\n",
       "      <th></th>\n",
       "      <th></th>\n",
       "    </tr>\n",
       "  </thead>\n",
       "  <tbody>\n",
       "    <tr>\n",
       "      <th>88.0</th>\n",
       "      <td>28501</td>\n",
       "      <td>7.233701</td>\n",
       "    </tr>\n",
       "    <tr>\n",
       "      <th>90.0</th>\n",
       "      <td>28497</td>\n",
       "      <td>7.232686</td>\n",
       "    </tr>\n",
       "    <tr>\n",
       "      <th>87.0</th>\n",
       "      <td>22844</td>\n",
       "      <td>5.797925</td>\n",
       "    </tr>\n",
       "    <tr>\n",
       "      <th>84.0</th>\n",
       "      <td>12419</td>\n",
       "      <td>3.152006</td>\n",
       "    </tr>\n",
       "    <tr>\n",
       "      <th>85.0</th>\n",
       "      <td>12261</td>\n",
       "      <td>3.111905</td>\n",
       "    </tr>\n",
       "    <tr>\n",
       "      <th>100.0</th>\n",
       "      <td>11178</td>\n",
       "      <td>2.837034</td>\n",
       "    </tr>\n",
       "    <tr>\n",
       "      <th>80.0</th>\n",
       "      <td>7061</td>\n",
       "      <td>1.792118</td>\n",
       "    </tr>\n",
       "    <tr>\n",
       "      <th>86.0</th>\n",
       "      <td>6024</td>\n",
       "      <td>1.528922</td>\n",
       "    </tr>\n",
       "    <tr>\n",
       "      <th>75.0</th>\n",
       "      <td>5795</td>\n",
       "      <td>1.470801</td>\n",
       "    </tr>\n",
       "    <tr>\n",
       "      <th>50.0</th>\n",
       "      <td>5560</td>\n",
       "      <td>1.411157</td>\n",
       "    </tr>\n",
       "  </tbody>\n",
       "</table>\n",
       "</div>"
      ],
      "text/plain": [
       "           case_count  weighted\n",
       "BldgDepth                      \n",
       "88.0            28501  7.233701\n",
       "90.0            28497  7.232686\n",
       "87.0            22844  5.797925\n",
       "84.0            12419  3.152006\n",
       "85.0            12261  3.111905\n",
       "100.0           11178  2.837034\n",
       "80.0             7061  1.792118\n",
       "86.0             6024  1.528922\n",
       "75.0             5795  1.470801\n",
       "50.0             5560  1.411157"
      ]
     },
     "execution_count": 14,
     "metadata": {},
     "output_type": "execute_result"
    }
   ],
   "source": [
    "x[:10]"
   ]
  },
  {
   "cell_type": "code",
   "execution_count": 15,
   "metadata": {},
   "outputs": [
    {
     "name": "stdout",
     "output_type": "stream",
     "text": [
      "The Cases Count has normal distribution between 0.0 and 99.94,\n",
      "the Top 3 Most Complaint BldgDepth are 88.0, 90.0 and 87.0 ft,\n",
      "contributed  7.23%, 7.23% and 5.80% of total number of complaint cases respectively.\n"
     ]
    }
   ],
   "source": [
    "print('The Cases Count has normal distribution between {} and {},'.format(x.index.min(), x.index.max()))\n",
    "print('the Top 3 Most Complaint BldgDepth are {}, {} and {} ft,'.format(x.index[0], x.index[1], x.index[2]))\n",
    "print('contributed  {:.2f}%, {:.2f}% and {:.2f}% of total number of complaint cases respectively.'.format(x['weighted'].loc[x.index[0]], x['weighted'].loc[x.index[1]], x['weighted'].loc[x.index[2]]))"
   ]
  },
  {
   "cell_type": "markdown",
   "metadata": {},
   "source": [
    "BldgDepth: \n",
    "<li> From the plot, the weighted_case_count mostly came from Building with BldgDepth ranges between 84 and 100 ft. \n",
    "<li> Top 3 from BldgDepth are 88, 90, 87ft contributed around 20% of overall total cases.\n",
    "<li> Top 6 can be considered as outliers as each of them contributed more than 2% while the others contributed only less than 2%."
   ]
  },
  {
   "cell_type": "markdown",
   "metadata": {},
   "source": [
    "<h1 style='font-size:2em; color:#2467C0'> BuiltFAR </h1>"
   ]
  },
  {
   "cell_type": "code",
   "execution_count": 16,
   "metadata": {},
   "outputs": [
    {
     "data": {
      "text/plain": [
       "<AxesSubplot:xlabel='BuiltFAR'>"
      ]
     },
     "execution_count": 16,
     "metadata": {},
     "output_type": "execute_result"
    },
    {
     "data": {
      "image/png": "[encoded data removed]",
      "text/plain": [
       "<Figure size 1440x648 with 1 Axes>"
      ]
     },
     "metadata": {},
     "output_type": "display_data"
    }
   ],
   "source": [
    "x = df_c[['case_count', 'BuiltFAR']].groupby('BuiltFAR').sum().sort_values('case_count', ascending=False)\n",
    "case_sum = x['case_count'].sum()\n",
    "x['weighted'] = x['case_count']*100/case_sum\n",
    "x.sort_values('BuiltFAR')['weighted'].plot(kind='bar')"
   ]
  },
  {
   "cell_type": "code",
   "execution_count": 17,
   "metadata": {},
   "outputs": [
    {
     "data": {
      "text/plain": [
       "0.6066197465501532"
      ]
     },
     "execution_count": 17,
     "metadata": {},
     "output_type": "execute_result"
    }
   ],
   "source": [
    "x.index = x.index.map(str)\n",
    "x[:141]['case_count'].sum()/x['case_count'].sum()"
   ]
  },
  {
   "cell_type": "code",
   "execution_count": 18,
   "metadata": {},
   "outputs": [
    {
     "name": "stdout",
     "output_type": "stream",
     "text": [
      "The Cases Count has normal distribution between 0.0 and 9.86,\n",
      "the Top 3 Most Complaint BuiltFAR are 4.99, 4.24 and 2.84 ,\n",
      "contributed  1.38%, 1.24% and 1.24% of total number of complaint cases respectively.\n"
     ]
    }
   ],
   "source": [
    "print('The Cases Count has normal distribution between {} and {},'.format(x.index.min(), x.index.max()))\n",
    "print('the Top 3 Most Complaint BuiltFAR are {}, {} and {} ,'.format(x.index[0], x.index[1], x.index[2]))\n",
    "print('contributed  {:.2f}%, {:.2f}% and {:.2f}% of total number of complaint cases respectively.'.format(x['weighted'].loc[x.index[0]], x['weighted'].loc[x.index[1]], x['weighted'].loc[x.index[2]]))"
   ]
  },
  {
   "cell_type": "markdown",
   "metadata": {},
   "source": [
    "BuiltFAR:\n",
    "<li> The weight_case_count are evenly distributed among the 709 unique, each of them contributed less than 1.5%. "
   ]
  },
  {
   "cell_type": "markdown",
   "metadata": {},
   "source": [
    "<h1 style='font-size:2em; color:#2467C0'> LotArea </h1>"
   ]
  },
  {
   "cell_type": "code",
   "execution_count": 19,
   "metadata": {},
   "outputs": [
    {
     "data": {
      "text/plain": [
       "<AxesSubplot:xlabel='LotArea'>"
      ]
     },
     "execution_count": 19,
     "metadata": {},
     "output_type": "execute_result"
    },
    {
     "data": {
      "image/png": "[encoded data removed]",
      "text/plain": [
       "<Figure size 1440x648 with 1 Axes>"
      ]
     },
     "metadata": {},
     "output_type": "display_data"
    }
   ],
   "source": [
    "x = df_c[['case_count', 'LotArea']].groupby('LotArea').sum().sort_values('case_count', ascending=False)\n",
    "case_sum = x['case_count'].sum()\n",
    "x['weighted'] = x['case_count']*100/case_sum\n",
    "x.sort_values('LotArea')['weighted'].plot(kind='bar')"
   ]
  },
  {
   "cell_type": "code",
   "execution_count": 20,
   "metadata": {},
   "outputs": [
    {
     "name": "stdout",
     "output_type": "stream",
     "text": [
      "The Cases Count has normal distribution between 0.0 and 3392065.0,\n",
      "the Top 3 Most Complaint BuiltFAR are 10000.0, 2500.0 and 5000.0 ,\n",
      "contributed  4.17%, 3.17% and 3.06% of total number of complaint cases respectively.\n"
     ]
    }
   ],
   "source": [
    "print('The Cases Count has normal distribution between {} and {},'.format(x.index.min(), x.index.max()))\n",
    "print('the Top 3 Most Complaint BuiltFAR are {}, {} and {} ,'.format(x.index[0], x.index[1], x.index[2]))\n",
    "print('contributed  {:.2f}%, {:.2f}% and {:.2f}% of total number of complaint cases respectively.'.format(x['weighted'].loc[x.index[0]], x['weighted'].loc[x.index[1]], x['weighted'].loc[x.index[2]]))"
   ]
  },
  {
   "cell_type": "code",
   "execution_count": 21,
   "metadata": {},
   "outputs": [
    {
     "data": {
      "text/plain": [
       "0.8226637868239582"
      ]
     },
     "execution_count": 21,
     "metadata": {},
     "output_type": "execute_result"
    }
   ],
   "source": [
    "x.index = x.index.map(str)\n",
    "x[:1045]['case_count'].sum()/x['case_count'].sum()"
   ]
  },
  {
   "cell_type": "code",
   "execution_count": 22,
   "metadata": {},
   "outputs": [
    {
     "data": {
      "text/html": [
       "<div>\n",
       "<style scoped>\n",
       "    .dataframe tbody tr th:only-of-type {\n",
       "        vertical-align: middle;\n",
       "    }\n",
       "\n",
       "    .dataframe tbody tr th {\n",
       "        vertical-align: top;\n",
       "    }\n",
       "\n",
       "    .dataframe thead th {\n",
       "        text-align: right;\n",
       "    }\n",
       "</style>\n",
       "<table border=\"1\" class=\"dataframe\">\n",
       "  <thead>\n",
       "    <tr style=\"text-align: right;\">\n",
       "      <th></th>\n",
       "      <th>case_count</th>\n",
       "      <th>weighted</th>\n",
       "    </tr>\n",
       "    <tr>\n",
       "      <th>LotArea</th>\n",
       "      <th></th>\n",
       "      <th></th>\n",
       "    </tr>\n",
       "  </thead>\n",
       "  <tbody>\n",
       "    <tr>\n",
       "      <th>10000.0</th>\n",
       "      <td>16428</td>\n",
       "      <td>4.169511</td>\n",
       "    </tr>\n",
       "    <tr>\n",
       "      <th>2500.0</th>\n",
       "      <td>12500</td>\n",
       "      <td>3.172565</td>\n",
       "    </tr>\n",
       "    <tr>\n",
       "      <th>5000.0</th>\n",
       "      <td>12056</td>\n",
       "      <td>3.059875</td>\n",
       "    </tr>\n",
       "    <tr>\n",
       "      <th>15000.0</th>\n",
       "      <td>6339</td>\n",
       "      <td>1.608871</td>\n",
       "    </tr>\n",
       "    <tr>\n",
       "      <th>12319.0</th>\n",
       "      <td>5317</td>\n",
       "      <td>1.349482</td>\n",
       "    </tr>\n",
       "    <tr>\n",
       "      <th>...</th>\n",
       "      <td>...</td>\n",
       "      <td>...</td>\n",
       "    </tr>\n",
       "    <tr>\n",
       "      <th>2547.0</th>\n",
       "      <td>1</td>\n",
       "      <td>0.000254</td>\n",
       "    </tr>\n",
       "    <tr>\n",
       "      <th>3653.0</th>\n",
       "      <td>1</td>\n",
       "      <td>0.000254</td>\n",
       "    </tr>\n",
       "    <tr>\n",
       "      <th>5196.0</th>\n",
       "      <td>1</td>\n",
       "      <td>0.000254</td>\n",
       "    </tr>\n",
       "    <tr>\n",
       "      <th>15995.0</th>\n",
       "      <td>1</td>\n",
       "      <td>0.000254</td>\n",
       "    </tr>\n",
       "    <tr>\n",
       "      <th>3867.0</th>\n",
       "      <td>1</td>\n",
       "      <td>0.000254</td>\n",
       "    </tr>\n",
       "  </tbody>\n",
       "</table>\n",
       "<p>5225 rows × 2 columns</p>\n",
       "</div>"
      ],
      "text/plain": [
       "         case_count  weighted\n",
       "LotArea                      \n",
       "10000.0       16428  4.169511\n",
       "2500.0        12500  3.172565\n",
       "5000.0        12056  3.059875\n",
       "15000.0        6339  1.608871\n",
       "12319.0        5317  1.349482\n",
       "...             ...       ...\n",
       "2547.0            1  0.000254\n",
       "3653.0            1  0.000254\n",
       "5196.0            1  0.000254\n",
       "15995.0           1  0.000254\n",
       "3867.0            1  0.000254\n",
       "\n",
       "[5225 rows x 2 columns]"
      ]
     },
     "execution_count": 22,
     "metadata": {},
     "output_type": "execute_result"
    }
   ],
   "source": [
    "x"
   ]
  },
  {
   "cell_type": "markdown",
   "metadata": {},
   "source": [
    "LotArea:\n",
    "<li> The Top 3 contributors are 10000, 2500, 5000, contributed over 10% of overall case count. Other than these outliers, each of the other 5222 unique values contributed less than 1.6%. "
   ]
  },
  {
   "cell_type": "markdown",
   "metadata": {},
   "source": [
    "<h1 style='font-size:2em; color:#2467C0'> LotDepth </h1>"
   ]
  },
  {
   "cell_type": "code",
   "execution_count": 23,
   "metadata": {},
   "outputs": [
    {
     "data": {
      "text/plain": [
       "<AxesSubplot:xlabel='LotDepth'>"
      ]
     },
     "execution_count": 23,
     "metadata": {},
     "output_type": "execute_result"
    },
    {
     "data": {
      "image/png": "[encoded data removed]",
      "text/plain": [
       "<Figure size 1440x648 with 1 Axes>"
      ]
     },
     "metadata": {},
     "output_type": "display_data"
    }
   ],
   "source": [
    "x = df_c[['case_count', 'LotDepth']].groupby('LotDepth').sum().sort_values('case_count', ascending=False)\n",
    "case_sum = x['case_count'].sum()\n",
    "x['weighted'] = x['case_count']*100/case_sum\n",
    "x.index= x.index.map(float)\n",
    "x.sort_values('LotDepth')['weighted'].plot(kind='bar')"
   ]
  },
  {
   "cell_type": "code",
   "execution_count": 24,
   "metadata": {},
   "outputs": [
    {
     "data": {
      "text/plain": [
       "0.8970616974997653"
      ]
     },
     "execution_count": 24,
     "metadata": {},
     "output_type": "execute_result"
    }
   ],
   "source": [
    "x.index = x.index.map(str)\n",
    "x[:517]['case_count'].sum()/x['case_count'].sum()"
   ]
  },
  {
   "cell_type": "code",
   "execution_count": 25,
   "metadata": {},
   "outputs": [
    {
     "name": "stdout",
     "output_type": "stream",
     "text": [
      "The Cases Count has normal distribution between 0.0 and 99.97,\n",
      "the Top 3 Most Complaint BuiltFAR are 100.0, 95.0 and 125.0 ,\n",
      "contributed  30.80%, 3.28% and 2.05% of total number of complaint cases respectively.\n"
     ]
    }
   ],
   "source": [
    "print('The Cases Count has normal distribution between {} and {},'.format(x.index.min(), x.index.max()))\n",
    "print('the Top 3 Most Complaint BuiltFAR are {}, {} and {} ,'.format(x.index[0], x.index[1], x.index[2]))\n",
    "print('contributed  {:.2f}%, {:.2f}% and {:.2f}% of total number of complaint cases respectively.'.format(x['weighted'].loc[x.index[0]], x['weighted'].loc[x.index[1]], x['weighted'].loc[x.index[2]]))"
   ]
  },
  {
   "cell_type": "code",
   "execution_count": 26,
   "metadata": {},
   "outputs": [
    {
     "data": {
      "text/html": [
       "<div>\n",
       "<style scoped>\n",
       "    .dataframe tbody tr th:only-of-type {\n",
       "        vertical-align: middle;\n",
       "    }\n",
       "\n",
       "    .dataframe tbody tr th {\n",
       "        vertical-align: top;\n",
       "    }\n",
       "\n",
       "    .dataframe thead th {\n",
       "        text-align: right;\n",
       "    }\n",
       "</style>\n",
       "<table border=\"1\" class=\"dataframe\">\n",
       "  <thead>\n",
       "    <tr style=\"text-align: right;\">\n",
       "      <th></th>\n",
       "      <th>case_count</th>\n",
       "      <th>weighted</th>\n",
       "    </tr>\n",
       "    <tr>\n",
       "      <th>LotDepth</th>\n",
       "      <th></th>\n",
       "      <th></th>\n",
       "    </tr>\n",
       "  </thead>\n",
       "  <tbody>\n",
       "    <tr>\n",
       "      <th>100.0</th>\n",
       "      <td>121338</td>\n",
       "      <td>30.796212</td>\n",
       "    </tr>\n",
       "    <tr>\n",
       "      <th>95.0</th>\n",
       "      <td>12909</td>\n",
       "      <td>3.276371</td>\n",
       "    </tr>\n",
       "    <tr>\n",
       "      <th>125.0</th>\n",
       "      <td>8068</td>\n",
       "      <td>2.047700</td>\n",
       "    </tr>\n",
       "    <tr>\n",
       "      <th>110.0</th>\n",
       "      <td>6812</td>\n",
       "      <td>1.728921</td>\n",
       "    </tr>\n",
       "    <tr>\n",
       "      <th>105.0</th>\n",
       "      <td>6221</td>\n",
       "      <td>1.578922</td>\n",
       "    </tr>\n",
       "    <tr>\n",
       "      <th>...</th>\n",
       "      <td>...</td>\n",
       "      <td>...</td>\n",
       "    </tr>\n",
       "    <tr>\n",
       "      <th>115.14</th>\n",
       "      <td>1</td>\n",
       "      <td>0.000254</td>\n",
       "    </tr>\n",
       "    <tr>\n",
       "      <th>115.68</th>\n",
       "      <td>1</td>\n",
       "      <td>0.000254</td>\n",
       "    </tr>\n",
       "    <tr>\n",
       "      <th>116.03</th>\n",
       "      <td>1</td>\n",
       "      <td>0.000254</td>\n",
       "    </tr>\n",
       "    <tr>\n",
       "      <th>45.58</th>\n",
       "      <td>1</td>\n",
       "      <td>0.000254</td>\n",
       "    </tr>\n",
       "    <tr>\n",
       "      <th>1071.85</th>\n",
       "      <td>1</td>\n",
       "      <td>0.000254</td>\n",
       "    </tr>\n",
       "  </tbody>\n",
       "</table>\n",
       "<p>2586 rows × 2 columns</p>\n",
       "</div>"
      ],
      "text/plain": [
       "          case_count   weighted\n",
       "LotDepth                       \n",
       "100.0         121338  30.796212\n",
       "95.0           12909   3.276371\n",
       "125.0           8068   2.047700\n",
       "110.0           6812   1.728921\n",
       "105.0           6221   1.578922\n",
       "...              ...        ...\n",
       "115.14             1   0.000254\n",
       "115.68             1   0.000254\n",
       "116.03             1   0.000254\n",
       "45.58              1   0.000254\n",
       "1071.85            1   0.000254\n",
       "\n",
       "[2586 rows x 2 columns]"
      ]
     },
     "execution_count": 26,
     "metadata": {},
     "output_type": "execute_result"
    }
   ],
   "source": [
    "x"
   ]
  },
  {
   "cell_type": "markdown",
   "metadata": {},
   "source": [
    "LotDepth:\n",
    "<li> The main contributor is 100ft contributed over 31% of the overall cases count. Then the weight_case_count are almost evenly distributed among the 2,585 unique values, each of them contributed less than 1.5%."
   ]
  },
  {
   "cell_type": "markdown",
   "metadata": {},
   "source": [
    "<h1 style='font-size:2em; color:#2467C0'> NumFloors </h1>"
   ]
  },
  {
   "cell_type": "code",
   "execution_count": 27,
   "metadata": {},
   "outputs": [
    {
     "data": {
      "text/plain": [
       "<AxesSubplot:xlabel='NumFloors'>"
      ]
     },
     "execution_count": 27,
     "metadata": {},
     "output_type": "execute_result"
    },
    {
     "data": {
      "image/png": "[encoded data removed]",
      "text/plain": [
       "<Figure size 1440x648 with 1 Axes>"
      ]
     },
     "metadata": {},
     "output_type": "display_data"
    }
   ],
   "source": [
    "x = df_c[['case_count', 'NumFloors']].groupby('NumFloors').sum().sort_values('case_count', ascending=False)\n",
    "case_sum = x['case_count'].sum()\n",
    "x['weighted'] = x['case_count']*100/case_sum\n",
    "x.index= x.index.map(float)\n",
    "x.sort_values('NumFloors')['weighted'].plot(kind='bar')"
   ]
  },
  {
   "cell_type": "code",
   "execution_count": 28,
   "metadata": {},
   "outputs": [
    {
     "data": {
      "text/plain": [
       "0.9498861683794286"
      ]
     },
     "execution_count": 28,
     "metadata": {},
     "output_type": "execute_result"
    }
   ],
   "source": [
    "x.index = x.index.map(str)\n",
    "x[:8]['case_count'].sum()/x['case_count'].sum()"
   ]
  },
  {
   "cell_type": "code",
   "execution_count": 29,
   "metadata": {},
   "outputs": [
    {
     "name": "stdout",
     "output_type": "stream",
     "text": [
      "The Cases Count has normal distribution between 0.0 and 9.0,\n",
      "the Top 3 Most Complaint BuiltFAR are 6.0, 5.0 and 2.0 ,\n",
      "contributed  40.43%, 32.85% and 6.25% of total number of complaint cases respectively.\n"
     ]
    }
   ],
   "source": [
    "print('The Cases Count has normal distribution between {} and {},'.format(x.index.min(), x.index.max()))\n",
    "print('the Top 3 Most Complaint BuiltFAR are {}, {} and {} ,'.format(x.index[0], x.index[1], x.index[2]))\n",
    "print('contributed  {:.2f}%, {:.2f}% and {:.2f}% of total number of complaint cases respectively.'.format(x['weighted'].loc[x.index[0]], x['weighted'].loc[x.index[1]], x['weighted'].loc[x.index[2]]))"
   ]
  },
  {
   "cell_type": "markdown",
   "metadata": {},
   "source": [
    "NumFloors:\n",
    "<li> The 2 main contributors are NumFloors 6.0 and 5.0, contributed almost 75% of total cases. "
   ]
  },
  {
   "cell_type": "markdown",
   "metadata": {},
   "source": [
    "<h1 style='font-size:2em; color:#2467C0'> ResArea </h1>"
   ]
  },
  {
   "cell_type": "code",
   "execution_count": 30,
   "metadata": {},
   "outputs": [
    {
     "data": {
      "text/plain": [
       "<AxesSubplot:xlabel='ResArea'>"
      ]
     },
     "execution_count": 30,
     "metadata": {},
     "output_type": "execute_result"
    },
    {
     "data": {
      "image/png": "[encoded data removed]",
      "text/plain": [
       "<Figure size 1440x648 with 1 Axes>"
      ]
     },
     "metadata": {},
     "output_type": "display_data"
    }
   ],
   "source": [
    "x = df_c[['case_count', 'ResArea']].groupby('ResArea').sum().sort_values('case_count', ascending=False)\n",
    "case_sum = x['case_count'].sum()\n",
    "x['weighted'] = x['case_count']*100/case_sum\n",
    "x.index= x.index.map(str)\n",
    "#x = x[:1250]\n",
    "#x.index= x.index.map(float)\n",
    "x.sort_values('ResArea')['weighted'].plot(kind='bar')"
   ]
  },
  {
   "cell_type": "code",
   "execution_count": 31,
   "metadata": {},
   "outputs": [
    {
     "name": "stdout",
     "output_type": "stream",
     "text": [
      "The Cases Count has normal distribution between 0.0 and 9990.0,\n",
      "the Top 3 Most Complaint BuiltFAR are 61500.0, 48000.0 and 55650.0 ,\n",
      "contributed  1.38%, 1.30% and 0.86% of total number of complaint cases respectively.\n"
     ]
    }
   ],
   "source": [
    "print('The Cases Count has normal distribution between {} and {},'.format(x.index.min(), x.index.max()))\n",
    "print('the Top 3 Most Complaint BuiltFAR are {}, {} and {} ,'.format(x.index[0], x.index[1], x.index[2]))\n",
    "print('contributed  {:.2f}%, {:.2f}% and {:.2f}% of total number of complaint cases respectively.'.format(x['weighted'].loc[x.index[0]], x['weighted'].loc[x.index[1]], x['weighted'].loc[x.index[2]]))"
   ]
  },
  {
   "cell_type": "code",
   "execution_count": 32,
   "metadata": {},
   "outputs": [
    {
     "data": {
      "text/plain": [
       "0.7575652977261594"
      ]
     },
     "execution_count": 32,
     "metadata": {},
     "output_type": "execute_result"
    }
   ],
   "source": [
    "x.index = x.index.map(str)\n",
    "x[:1250]['case_count'].sum()/x['case_count'].sum()"
   ]
  },
  {
   "cell_type": "code",
   "execution_count": 33,
   "metadata": {},
   "outputs": [
    {
     "data": {
      "text/html": [
       "<div>\n",
       "<style scoped>\n",
       "    .dataframe tbody tr th:only-of-type {\n",
       "        vertical-align: middle;\n",
       "    }\n",
       "\n",
       "    .dataframe tbody tr th {\n",
       "        vertical-align: top;\n",
       "    }\n",
       "\n",
       "    .dataframe thead th {\n",
       "        text-align: right;\n",
       "    }\n",
       "</style>\n",
       "<table border=\"1\" class=\"dataframe\">\n",
       "  <thead>\n",
       "    <tr style=\"text-align: right;\">\n",
       "      <th></th>\n",
       "      <th>case_count</th>\n",
       "      <th>weighted</th>\n",
       "    </tr>\n",
       "    <tr>\n",
       "      <th>ResArea</th>\n",
       "      <th></th>\n",
       "      <th></th>\n",
       "    </tr>\n",
       "  </thead>\n",
       "  <tbody>\n",
       "    <tr>\n",
       "      <th>61500.0</th>\n",
       "      <td>5442</td>\n",
       "      <td>1.381208</td>\n",
       "    </tr>\n",
       "    <tr>\n",
       "      <th>48000.0</th>\n",
       "      <td>5108</td>\n",
       "      <td>1.296437</td>\n",
       "    </tr>\n",
       "    <tr>\n",
       "      <th>55650.0</th>\n",
       "      <td>3393</td>\n",
       "      <td>0.861161</td>\n",
       "    </tr>\n",
       "    <tr>\n",
       "      <th>0.0</th>\n",
       "      <td>2768</td>\n",
       "      <td>0.702533</td>\n",
       "    </tr>\n",
       "    <tr>\n",
       "      <th>54000.0</th>\n",
       "      <td>2601</td>\n",
       "      <td>0.660147</td>\n",
       "    </tr>\n",
       "    <tr>\n",
       "      <th>...</th>\n",
       "      <td>...</td>\n",
       "      <td>...</td>\n",
       "    </tr>\n",
       "    <tr>\n",
       "      <th>3014.0</th>\n",
       "      <td>1</td>\n",
       "      <td>0.000254</td>\n",
       "    </tr>\n",
       "    <tr>\n",
       "      <th>3001.0</th>\n",
       "      <td>1</td>\n",
       "      <td>0.000254</td>\n",
       "    </tr>\n",
       "    <tr>\n",
       "      <th>2994.0</th>\n",
       "      <td>1</td>\n",
       "      <td>0.000254</td>\n",
       "    </tr>\n",
       "    <tr>\n",
       "      <th>2951.0</th>\n",
       "      <td>1</td>\n",
       "      <td>0.000254</td>\n",
       "    </tr>\n",
       "    <tr>\n",
       "      <th>3413.0</th>\n",
       "      <td>1</td>\n",
       "      <td>0.000254</td>\n",
       "    </tr>\n",
       "  </tbody>\n",
       "</table>\n",
       "<p>6246 rows × 2 columns</p>\n",
       "</div>"
      ],
      "text/plain": [
       "         case_count  weighted\n",
       "ResArea                      \n",
       "61500.0        5442  1.381208\n",
       "48000.0        5108  1.296437\n",
       "55650.0        3393  0.861161\n",
       "0.0            2768  0.702533\n",
       "54000.0        2601  0.660147\n",
       "...             ...       ...\n",
       "3014.0            1  0.000254\n",
       "3001.0            1  0.000254\n",
       "2994.0            1  0.000254\n",
       "2951.0            1  0.000254\n",
       "3413.0            1  0.000254\n",
       "\n",
       "[6246 rows x 2 columns]"
      ]
     },
     "execution_count": 33,
     "metadata": {},
     "output_type": "execute_result"
    }
   ],
   "source": [
    "x"
   ]
  },
  {
   "cell_type": "markdown",
   "metadata": {},
   "source": [
    "ResArea:\n",
    "<li>The weight_case_count are evenly distributed among the 6,246 unique values, each of them contributed less than 1.3%."
   ]
  },
  {
   "cell_type": "code",
   "execution_count": 34,
   "metadata": {},
   "outputs": [
    {
     "data": {
      "text/plain": [
       "<AxesSubplot:xlabel='YearBuilt'>"
      ]
     },
     "execution_count": 34,
     "metadata": {},
     "output_type": "execute_result"
    },
    {
     "data": {
      "image/png": "[encoded data removed]",
      "text/plain": [
       "<Figure size 1440x648 with 1 Axes>"
      ]
     },
     "metadata": {},
     "output_type": "display_data"
    }
   ],
   "source": [
    "x = df_c[['case_count', 'YearBuilt']].groupby('YearBuilt').sum().sort_values('case_count', ascending=False)\n",
    "case_sum = x['case_count'].sum()\n",
    "x['weighted'] = x['case_count']*100/case_sum\n",
    "x.sort_values('YearBuilt')['weighted'].plot(kind='bar')"
   ]
  },
  {
   "cell_type": "code",
   "execution_count": 35,
   "metadata": {},
   "outputs": [
    {
     "data": {
      "text/plain": [
       "0.773463653830047"
      ]
     },
     "execution_count": 35,
     "metadata": {},
     "output_type": "execute_result"
    }
   ],
   "source": [
    "x.index = x.index.map(str)\n",
    "x[:25]['case_count'].sum()/x['case_count'].sum()"
   ]
  },
  {
   "cell_type": "code",
   "execution_count": 36,
   "metadata": {},
   "outputs": [
    {
     "name": "stdout",
     "output_type": "stream",
     "text": [
      "The Cases Count has normal distribution between 0.0 and 2017.0,\n",
      "the Top 3 Most Complaint BuiltFAR are 1927.0, 1931.0 and 1928.0 ,\n",
      "contributed  9.53%, 9.39% and 7.13% of total number of complaint cases respectively.\n"
     ]
    }
   ],
   "source": [
    "print('The Cases Count has normal distribution between {} and {},'.format(x.index.min(), x.index.max()))\n",
    "print('the Top 3 Most Complaint BuiltFAR are {}, {} and {} ,'.format(x.index[0], x.index[1], x.index[2]))\n",
    "print('contributed  {:.2f}%, {:.2f}% and {:.2f}% of total number of complaint cases respectively.'.format(x['weighted'].loc[x.index[0]], x['weighted'].loc[x.index[1]], x['weighted'].loc[x.index[2]]))"
   ]
  },
  {
   "cell_type": "code",
   "execution_count": 37,
   "metadata": {},
   "outputs": [
    {
     "data": {
      "text/plain": [
       "case_count    215594.000000\n",
       "weighted          54.718873\n",
       "dtype: float64"
      ]
     },
     "execution_count": 37,
     "metadata": {},
     "output_type": "execute_result"
    }
   ],
   "source": [
    "x[:10].sum()"
   ]
  },
  {
   "cell_type": "markdown",
   "metadata": {},
   "source": [
    "YearBuilt:\n",
    "<li>From the plot, the weighted_case_count mostly came from Building with YearBuilt ranges between 1924 and 1931, contributed (54% of total cases) and all of them are in Top 8 contributors.\n",
    "<li>Top 3 from BldgDepth are 1927, 1931, 1928 contributed around 25% of overall total cases."
   ]
  },
  {
   "cell_type": "markdown",
   "metadata": {},
   "source": [
    "<h1 style='font-size:2em; color:#2467C0'> YearAlter1 </h1>"
   ]
  },
  {
   "cell_type": "code",
   "execution_count": 38,
   "metadata": {},
   "outputs": [
    {
     "name": "stdout",
     "output_type": "stream",
     "text": [
      "No of Rows in x is 88, 20% of 88 = 17.6\n"
     ]
    },
    {
     "data": {
      "text/plain": [
       "<AxesSubplot:xlabel='YearAlter1'>"
      ]
     },
     "execution_count": 38,
     "metadata": {},
     "output_type": "execute_result"
    },
    {
     "data": {
      "image/png": "[encoded data removed]",
      "text/plain": [
       "<Figure size 1440x648 with 1 Axes>"
      ]
     },
     "metadata": {},
     "output_type": "display_data"
    }
   ],
   "source": [
    "x = df_c[['case_count', 'YearAlter1']].groupby('YearAlter1').sum().sort_values('case_count', ascending=False)\n",
    "case_sum = x['case_count'].sum()\n",
    "x['weighted'] = x['case_count']*100/case_sum\n",
    "print('No of Rows in x is {}, 20% of {} = {}'.format(x.shape[0], x.shape[0], x.shape[0]*0.2))\n",
    "x.sort_values('YearAlter1')['weighted'].plot(kind='bar')"
   ]
  },
  {
   "cell_type": "code",
   "execution_count": 39,
   "metadata": {},
   "outputs": [
    {
     "data": {
      "text/plain": [
       "0.9154651106717462"
      ]
     },
     "execution_count": 39,
     "metadata": {},
     "output_type": "execute_result"
    }
   ],
   "source": [
    "x.index = x.index.map(str)\n",
    "x[:18]['case_count'].sum()/x['case_count'].sum()"
   ]
  },
  {
   "cell_type": "code",
   "execution_count": 40,
   "metadata": {},
   "outputs": [
    {
     "name": "stdout",
     "output_type": "stream",
     "text": [
      "The Cases Count has normal distribution between 0.0 and 2017.0,\n",
      "the Top 3 Most Complaint BuiltFAR are 0.0, 1991.0 and 1990.0 ,\n",
      "contributed  74.44%, 2.05% and 1.58% of total number of complaint cases respectively.\n"
     ]
    }
   ],
   "source": [
    "print('The Cases Count has normal distribution between {} and {},'.format(x.index.min(), x.index.max()))\n",
    "print('the Top 3 Most Complaint BuiltFAR are {}, {} and {} ,'.format(x.index[0], x.index[1], x.index[2]))\n",
    "print('contributed  {:.2f}%, {:.2f}% and {:.2f}% of total number of complaint cases respectively.'.format(x['weighted'].loc[x.index[0]], x['weighted'].loc[x.index[1]], x['weighted'].loc[x.index[2]]))"
   ]
  },
  {
   "cell_type": "code",
   "execution_count": 41,
   "metadata": {},
   "outputs": [
    {
     "data": {
      "text/plain": [
       "0.9154651106717462"
      ]
     },
     "execution_count": 41,
     "metadata": {},
     "output_type": "execute_result"
    }
   ],
   "source": [
    "x.index = x.index.map(str)\n",
    "x[:18]['case_count'].sum()/x['case_count'].sum()"
   ]
  },
  {
   "cell_type": "code",
   "execution_count": 42,
   "metadata": {},
   "outputs": [
    {
     "data": {
      "text/html": [
       "<div>\n",
       "<style scoped>\n",
       "    .dataframe tbody tr th:only-of-type {\n",
       "        vertical-align: middle;\n",
       "    }\n",
       "\n",
       "    .dataframe tbody tr th {\n",
       "        vertical-align: top;\n",
       "    }\n",
       "\n",
       "    .dataframe thead th {\n",
       "        text-align: right;\n",
       "    }\n",
       "</style>\n",
       "<table border=\"1\" class=\"dataframe\">\n",
       "  <thead>\n",
       "    <tr style=\"text-align: right;\">\n",
       "      <th></th>\n",
       "      <th>case_count</th>\n",
       "      <th>weighted</th>\n",
       "    </tr>\n",
       "    <tr>\n",
       "      <th>YearAlter1</th>\n",
       "      <th></th>\n",
       "      <th></th>\n",
       "    </tr>\n",
       "  </thead>\n",
       "  <tbody>\n",
       "    <tr>\n",
       "      <th>0.0</th>\n",
       "      <td>293296</td>\n",
       "      <td>74.440042</td>\n",
       "    </tr>\n",
       "    <tr>\n",
       "      <th>1991.0</th>\n",
       "      <td>8060</td>\n",
       "      <td>2.045670</td>\n",
       "    </tr>\n",
       "    <tr>\n",
       "      <th>1990.0</th>\n",
       "      <td>6243</td>\n",
       "      <td>1.584506</td>\n",
       "    </tr>\n",
       "    <tr>\n",
       "      <th>1988.0</th>\n",
       "      <td>5209</td>\n",
       "      <td>1.322071</td>\n",
       "    </tr>\n",
       "    <tr>\n",
       "      <th>1994.0</th>\n",
       "      <td>4765</td>\n",
       "      <td>1.209382</td>\n",
       "    </tr>\n",
       "    <tr>\n",
       "      <th>...</th>\n",
       "      <td>...</td>\n",
       "      <td>...</td>\n",
       "    </tr>\n",
       "    <tr>\n",
       "      <th>1924.0</th>\n",
       "      <td>1</td>\n",
       "      <td>0.000254</td>\n",
       "    </tr>\n",
       "    <tr>\n",
       "      <th>1925.0</th>\n",
       "      <td>1</td>\n",
       "      <td>0.000254</td>\n",
       "    </tr>\n",
       "    <tr>\n",
       "      <th>1931.0</th>\n",
       "      <td>1</td>\n",
       "      <td>0.000254</td>\n",
       "    </tr>\n",
       "    <tr>\n",
       "      <th>1933.0</th>\n",
       "      <td>1</td>\n",
       "      <td>0.000254</td>\n",
       "    </tr>\n",
       "    <tr>\n",
       "      <th>1943.0</th>\n",
       "      <td>1</td>\n",
       "      <td>0.000254</td>\n",
       "    </tr>\n",
       "  </tbody>\n",
       "</table>\n",
       "<p>88 rows × 2 columns</p>\n",
       "</div>"
      ],
      "text/plain": [
       "            case_count   weighted\n",
       "YearAlter1                       \n",
       "0.0             293296  74.440042\n",
       "1991.0            8060   2.045670\n",
       "1990.0            6243   1.584506\n",
       "1988.0            5209   1.322071\n",
       "1994.0            4765   1.209382\n",
       "...                ...        ...\n",
       "1924.0               1   0.000254\n",
       "1925.0               1   0.000254\n",
       "1931.0               1   0.000254\n",
       "1933.0               1   0.000254\n",
       "1943.0               1   0.000254\n",
       "\n",
       "[88 rows x 2 columns]"
      ]
     },
     "execution_count": 42,
     "metadata": {},
     "output_type": "execute_result"
    }
   ],
   "source": [
    "x"
   ]
  },
  {
   "cell_type": "markdown",
   "metadata": {},
   "source": [
    "YearAlter1:\n",
    "<li> Most (74%) of the complaints came from building with YearAlter1 = 0.0 (the building have not been altered). \n",
    "<li> YearAlter1 = 1991 contributed 2% of the total complaints."
   ]
  },
  {
   "cell_type": "markdown",
   "metadata": {},
   "source": [
    "<h1 style='font-size:2em; color:#FF8C00'> Conclusion: </h1>"
   ]
  },
  {
   "cell_type": "markdown",
   "metadata": {},
   "source": [
    "The building characteristic that is relatively strongly related the case count is NumFloors. Most of the complaints (75% of total cases) came from Building with NumFloors of 5.0 and 6.0. <br>\n",
    "The building characteristic YearAlter1 also stated that most complaints (70% of total cases) came from buildings that have not been altered before. <br>\n",
    "The building characteristic YearBuilt stated that most complaints (54% of total cases) came from those with YearBuilt ranges between 1924 and 1931. <br>\n",
    "There are some outliers in most attributes(building characteristics) including BldgDepth, LotDepth and LotArea. <br>\n",
    "In the others (BuiltFAR, ResArea), the complaints are considerably evenly distributed among the unique values. <br>"
   ]
  },
  {
   "cell_type": "code",
   "execution_count": null,
   "metadata": {},
   "outputs": [],
   "source": []
  },
  {
   "cell_type": "code",
   "execution_count": null,
   "metadata": {},
   "outputs": [],
   "source": []
  },
  {
   "cell_type": "code",
   "execution_count": null,
   "metadata": {},
   "outputs": [],
   "source": []
  },
  {
   "cell_type": "code",
   "execution_count": null,
   "metadata": {},
   "outputs": [],
   "source": []
  },
  {
   "cell_type": "code",
   "execution_count": null,
   "metadata": {},
   "outputs": [],
   "source": []
  },
  {
   "cell_type": "code",
   "execution_count": null,
   "metadata": {},
   "outputs": [],
   "source": []
  },
  {
   "cell_type": "code",
   "execution_count": null,
   "metadata": {},
   "outputs": [],
   "source": []
  },
  {
   "cell_type": "code",
   "execution_count": null,
   "metadata": {},
   "outputs": [],
   "source": []
  }
 ],
 "metadata": {
  "kernelspec": {
   "display_name": "myenv",
   "language": "python",
   "name": "myenv"
  },
  "language_info": {
   "codemirror_mode": {
    "name": "ipython",
    "version": 3
   },
   "file_extension": ".py",
   "mimetype": "text/x-python",
   "name": "python",
   "nbconvert_exporter": "python",
   "pygments_lexer": "ipython3",
   "version": "3.8.5"
  }
 },
 "nbformat": 4,
 "nbformat_minor": 4
}
